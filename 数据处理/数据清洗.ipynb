{
 "metadata": {
  "language_info": {
   "codemirror_mode": {
    "name": "ipython",
    "version": 3
   },
   "file_extension": ".py",
   "mimetype": "text/x-python",
   "name": "python",
   "nbconvert_exporter": "python",
   "pygments_lexer": "ipython3",
   "version": "3.8.3-final"
  },
  "orig_nbformat": 2,
  "kernelspec": {
   "name": "python383jvsc74a57bd05cbf009346a6eab412f5ab14f605ed135c66531ba5ac86b5a8dd3e3f350b168a",
   "display_name": "Python 3.8.3 64-bit"
  }
 },
 "nbformat": 4,
 "nbformat_minor": 2,
 "cells": [
  {
   "cell_type": "code",
   "execution_count": 17,
   "metadata": {},
   "outputs": [],
   "source": [
    "import pandas as pd\n",
    "import math\n",
    "import datetime"
   ]
  },
  {
   "cell_type": "code",
   "execution_count": 18,
   "metadata": {},
   "outputs": [
    {
     "output_type": "execute_result",
     "data": {
      "text/plain": [
       "                    ADDRESS  BUSY_STATUS   LATITUDE   LONGITUDE  P_TYPE  \\\n",
       "0                    元山路88弄            1  31.047224  121.378462       1   \n",
       "1                  富岩路东银春路北            1  31.023031  121.374445       1   \n",
       "2                  华宁路2500号            1  31.041829  121.381019       1   \n",
       "3           银春路2221弄1-6号B1层            1  31.024305  121.384994       1   \n",
       "4                  昆阳路1508号            1  31.010784  121.368305       1   \n",
       "5                  昆阳路1600号            1  31.013117  121.364806       1   \n",
       "6                  华宁路1459号            1  31.025092  121.390090       1   \n",
       "7                 轻轨5号线开发区站            1  31.001078  121.370138       1   \n",
       "8                  元江路3699号            1  31.046236  121.395357       1   \n",
       "9                  江川路彭渡村七组            1  30.994357  121.371369       1   \n",
       "10                 江川路1553号            1  30.994130  121.372632       1   \n",
       "11                 中春路1288号            1  31.043628  121.396041       1   \n",
       "12                   鑫都商业广场            1  31.055733  121.394351       1   \n",
       "13                  春中路399号            1  31.082363  121.380410       1   \n",
       "14                  繁安路229号            1  31.064566  121.393218       1   \n",
       "15                 北松公路629号            1  31.037234  121.397839       1   \n",
       "16                 鑫都路2538号            1  31.056875  121.396086       1   \n",
       "17                  光华路335号            1  31.070150  121.392572       1   \n",
       "18                 祥云路彭渡村六组            1  30.989933  121.367468       1   \n",
       "19  新源路1356弄1-7号（瓶北路与元江路之间）            1  31.048344  121.398784       1   \n",
       "\n",
       "       PARKING_ID        PARKING_NAME  BERTH  PERCENTAGE            starttime  \n",
       "0   mh31011200219        上海和迅物业管理有限公司    4.0        0.05  2021-03-25 07:56:00  \n",
       "1   mh31011200820            富岩路临时停车场   25.0        0.05  2021-03-25 07:56:00  \n",
       "2   mh31011200698             元祥菜场停车场    2.0        0.10  2021-03-25 07:56:00  \n",
       "3   mh31011200683  上海湖邦房地产有限公司（闵行星悦荟）  446.0        0.83  2021-03-25 07:56:00  \n",
       "4   mh31011200769         新建科研工房及辅助用房   13.0        0.07  2021-03-25 07:56:00  \n",
       "5   mh31011200093      上海铁路闵行钢铁发展有限公司    6.0        0.03  2021-03-25 07:56:00  \n",
       "6   mh31011200319        上海华银坊农贸市场停车场   64.0        0.70  2021-03-25 07:56:00  \n",
       "7   mh31011200701           轻轨5号线开发区站    NaN         NaN  2021-03-25 07:56:00  \n",
       "8   mh31011200777   新建海水淡化设备总装车间项目停车场   36.0        0.32  2021-03-25 07:56:00  \n",
       "9   mh31011200737          彭渡村七组临时停车场   46.0        0.13  2021-03-25 07:56:00  \n",
       "10  mh31011200758              综星生活广场    4.0        0.09  2021-03-25 07:56:00  \n",
       "11  mh31011200652           金地威新闵行科创园   16.0        0.06  2021-03-25 07:56:00  \n",
       "12  mh31011200614             鑫都建行停车场   22.0        0.61  2021-03-25 07:56:00  \n",
       "13  mh31011200218   上海建科商务服务有限公司第二分公司   90.0        0.80  2021-03-25 07:56:00  \n",
       "14  mh31011200351              繁安农贸市场    4.0        0.09  2021-03-25 07:56:00  \n",
       "15  mh31011200736        上海圆外物业集团有限公司    NaN         NaN  2021-03-25 07:56:00  \n",
       "16  mh31011200590           鑫都商业广场停车场  288.0        0.81  2021-03-25 07:56:00  \n",
       "17  mh31011200522          越界丝腾光华酷停车场    8.0        0.10  2021-03-25 07:56:00  \n",
       "18  mh31011200735          彭渡村六组临时停车场   44.0        0.46  2021-03-25 07:56:00  \n",
       "19  mh31011200199       上海正珏科技电子商务产业园  234.0        0.75  2021-03-25 07:56:00  "
      ],
      "text/html": "<div>\n<style scoped>\n    .dataframe tbody tr th:only-of-type {\n        vertical-align: middle;\n    }\n\n    .dataframe tbody tr th {\n        vertical-align: top;\n    }\n\n    .dataframe thead th {\n        text-align: right;\n    }\n</style>\n<table border=\"1\" class=\"dataframe\">\n  <thead>\n    <tr style=\"text-align: right;\">\n      <th></th>\n      <th>ADDRESS</th>\n      <th>BUSY_STATUS</th>\n      <th>LATITUDE</th>\n      <th>LONGITUDE</th>\n      <th>P_TYPE</th>\n      <th>PARKING_ID</th>\n      <th>PARKING_NAME</th>\n      <th>BERTH</th>\n      <th>PERCENTAGE</th>\n      <th>starttime</th>\n    </tr>\n  </thead>\n  <tbody>\n    <tr>\n      <th>0</th>\n      <td>元山路88弄</td>\n      <td>1</td>\n      <td>31.047224</td>\n      <td>121.378462</td>\n      <td>1</td>\n      <td>mh31011200219</td>\n      <td>上海和迅物业管理有限公司</td>\n      <td>4.0</td>\n      <td>0.05</td>\n      <td>2021-03-25 07:56:00</td>\n    </tr>\n    <tr>\n      <th>1</th>\n      <td>富岩路东银春路北</td>\n      <td>1</td>\n      <td>31.023031</td>\n      <td>121.374445</td>\n      <td>1</td>\n      <td>mh31011200820</td>\n      <td>富岩路临时停车场</td>\n      <td>25.0</td>\n      <td>0.05</td>\n      <td>2021-03-25 07:56:00</td>\n    </tr>\n    <tr>\n      <th>2</th>\n      <td>华宁路2500号</td>\n      <td>1</td>\n      <td>31.041829</td>\n      <td>121.381019</td>\n      <td>1</td>\n      <td>mh31011200698</td>\n      <td>元祥菜场停车场</td>\n      <td>2.0</td>\n      <td>0.10</td>\n      <td>2021-03-25 07:56:00</td>\n    </tr>\n    <tr>\n      <th>3</th>\n      <td>银春路2221弄1-6号B1层</td>\n      <td>1</td>\n      <td>31.024305</td>\n      <td>121.384994</td>\n      <td>1</td>\n      <td>mh31011200683</td>\n      <td>上海湖邦房地产有限公司（闵行星悦荟）</td>\n      <td>446.0</td>\n      <td>0.83</td>\n      <td>2021-03-25 07:56:00</td>\n    </tr>\n    <tr>\n      <th>4</th>\n      <td>昆阳路1508号</td>\n      <td>1</td>\n      <td>31.010784</td>\n      <td>121.368305</td>\n      <td>1</td>\n      <td>mh31011200769</td>\n      <td>新建科研工房及辅助用房</td>\n      <td>13.0</td>\n      <td>0.07</td>\n      <td>2021-03-25 07:56:00</td>\n    </tr>\n    <tr>\n      <th>5</th>\n      <td>昆阳路1600号</td>\n      <td>1</td>\n      <td>31.013117</td>\n      <td>121.364806</td>\n      <td>1</td>\n      <td>mh31011200093</td>\n      <td>上海铁路闵行钢铁发展有限公司</td>\n      <td>6.0</td>\n      <td>0.03</td>\n      <td>2021-03-25 07:56:00</td>\n    </tr>\n    <tr>\n      <th>6</th>\n      <td>华宁路1459号</td>\n      <td>1</td>\n      <td>31.025092</td>\n      <td>121.390090</td>\n      <td>1</td>\n      <td>mh31011200319</td>\n      <td>上海华银坊农贸市场停车场</td>\n      <td>64.0</td>\n      <td>0.70</td>\n      <td>2021-03-25 07:56:00</td>\n    </tr>\n    <tr>\n      <th>7</th>\n      <td>轻轨5号线开发区站</td>\n      <td>1</td>\n      <td>31.001078</td>\n      <td>121.370138</td>\n      <td>1</td>\n      <td>mh31011200701</td>\n      <td>轻轨5号线开发区站</td>\n      <td>NaN</td>\n      <td>NaN</td>\n      <td>2021-03-25 07:56:00</td>\n    </tr>\n    <tr>\n      <th>8</th>\n      <td>元江路3699号</td>\n      <td>1</td>\n      <td>31.046236</td>\n      <td>121.395357</td>\n      <td>1</td>\n      <td>mh31011200777</td>\n      <td>新建海水淡化设备总装车间项目停车场</td>\n      <td>36.0</td>\n      <td>0.32</td>\n      <td>2021-03-25 07:56:00</td>\n    </tr>\n    <tr>\n      <th>9</th>\n      <td>江川路彭渡村七组</td>\n      <td>1</td>\n      <td>30.994357</td>\n      <td>121.371369</td>\n      <td>1</td>\n      <td>mh31011200737</td>\n      <td>彭渡村七组临时停车场</td>\n      <td>46.0</td>\n      <td>0.13</td>\n      <td>2021-03-25 07:56:00</td>\n    </tr>\n    <tr>\n      <th>10</th>\n      <td>江川路1553号</td>\n      <td>1</td>\n      <td>30.994130</td>\n      <td>121.372632</td>\n      <td>1</td>\n      <td>mh31011200758</td>\n      <td>综星生活广场</td>\n      <td>4.0</td>\n      <td>0.09</td>\n      <td>2021-03-25 07:56:00</td>\n    </tr>\n    <tr>\n      <th>11</th>\n      <td>中春路1288号</td>\n      <td>1</td>\n      <td>31.043628</td>\n      <td>121.396041</td>\n      <td>1</td>\n      <td>mh31011200652</td>\n      <td>金地威新闵行科创园</td>\n      <td>16.0</td>\n      <td>0.06</td>\n      <td>2021-03-25 07:56:00</td>\n    </tr>\n    <tr>\n      <th>12</th>\n      <td>鑫都商业广场</td>\n      <td>1</td>\n      <td>31.055733</td>\n      <td>121.394351</td>\n      <td>1</td>\n      <td>mh31011200614</td>\n      <td>鑫都建行停车场</td>\n      <td>22.0</td>\n      <td>0.61</td>\n      <td>2021-03-25 07:56:00</td>\n    </tr>\n    <tr>\n      <th>13</th>\n      <td>春中路399号</td>\n      <td>1</td>\n      <td>31.082363</td>\n      <td>121.380410</td>\n      <td>1</td>\n      <td>mh31011200218</td>\n      <td>上海建科商务服务有限公司第二分公司</td>\n      <td>90.0</td>\n      <td>0.80</td>\n      <td>2021-03-25 07:56:00</td>\n    </tr>\n    <tr>\n      <th>14</th>\n      <td>繁安路229号</td>\n      <td>1</td>\n      <td>31.064566</td>\n      <td>121.393218</td>\n      <td>1</td>\n      <td>mh31011200351</td>\n      <td>繁安农贸市场</td>\n      <td>4.0</td>\n      <td>0.09</td>\n      <td>2021-03-25 07:56:00</td>\n    </tr>\n    <tr>\n      <th>15</th>\n      <td>北松公路629号</td>\n      <td>1</td>\n      <td>31.037234</td>\n      <td>121.397839</td>\n      <td>1</td>\n      <td>mh31011200736</td>\n      <td>上海圆外物业集团有限公司</td>\n      <td>NaN</td>\n      <td>NaN</td>\n      <td>2021-03-25 07:56:00</td>\n    </tr>\n    <tr>\n      <th>16</th>\n      <td>鑫都路2538号</td>\n      <td>1</td>\n      <td>31.056875</td>\n      <td>121.396086</td>\n      <td>1</td>\n      <td>mh31011200590</td>\n      <td>鑫都商业广场停车场</td>\n      <td>288.0</td>\n      <td>0.81</td>\n      <td>2021-03-25 07:56:00</td>\n    </tr>\n    <tr>\n      <th>17</th>\n      <td>光华路335号</td>\n      <td>1</td>\n      <td>31.070150</td>\n      <td>121.392572</td>\n      <td>1</td>\n      <td>mh31011200522</td>\n      <td>越界丝腾光华酷停车场</td>\n      <td>8.0</td>\n      <td>0.10</td>\n      <td>2021-03-25 07:56:00</td>\n    </tr>\n    <tr>\n      <th>18</th>\n      <td>祥云路彭渡村六组</td>\n      <td>1</td>\n      <td>30.989933</td>\n      <td>121.367468</td>\n      <td>1</td>\n      <td>mh31011200735</td>\n      <td>彭渡村六组临时停车场</td>\n      <td>44.0</td>\n      <td>0.46</td>\n      <td>2021-03-25 07:56:00</td>\n    </tr>\n    <tr>\n      <th>19</th>\n      <td>新源路1356弄1-7号（瓶北路与元江路之间）</td>\n      <td>1</td>\n      <td>31.048344</td>\n      <td>121.398784</td>\n      <td>1</td>\n      <td>mh31011200199</td>\n      <td>上海正珏科技电子商务产业园</td>\n      <td>234.0</td>\n      <td>0.75</td>\n      <td>2021-03-25 07:56:00</td>\n    </tr>\n  </tbody>\n</table>\n</div>"
     },
     "metadata": {},
     "execution_count": 18
    }
   ],
   "source": [
    "data = pd.read_csv(\"final车场信息_上海停车_总车位_allMerged_type1_2021.03.25.csv\")\n",
    "data.head(20)"
   ]
  },
  {
   "cell_type": "code",
   "execution_count": 19,
   "metadata": {},
   "outputs": [
    {
     "output_type": "execute_result",
     "data": {
      "text/plain": [
       "      ADDRESS  BUSY_STATUS   LATITUDE  LONGITUDE  P_TYPE     PARKING_ID  \\\n",
       "57502     前卫村            1  31.717627   121.5096       1  cm31023000001   \n",
       "57753     前卫村            1  31.717627   121.5096       1  cm31023000001   \n",
       "58004     前卫村            1  31.717627   121.5096       1  cm31023000001   \n",
       "58255     前卫村            1  31.717627   121.5096       1  cm31023000001   \n",
       "58506     前卫村            1  31.717627   121.5096       1  cm31023000001   \n",
       "58757     前卫村            1  31.717627   121.5096       1  cm31023000001   \n",
       "59008     前卫村            1  31.717627   121.5096       1  cm31023000001   \n",
       "59259     前卫村            1  31.717627   121.5096       1  cm31023000001   \n",
       "59510     前卫村            1  31.717627   121.5096       1  cm31023000001   \n",
       "59761     前卫村            1  31.717627   121.5096       1  cm31023000001   \n",
       "60012     前卫村            1  31.717627   121.5096       1  cm31023000001   \n",
       "60263     前卫村            1  31.717627   121.5096       1  cm31023000001   \n",
       "60514     前卫村            1  31.717627   121.5096       1  cm31023000001   \n",
       "60765     前卫村            1  31.717627   121.5096       1  cm31023000001   \n",
       "61016     前卫村            1  31.717627   121.5096       1  cm31023000001   \n",
       "61267     前卫村            1  31.717627   121.5096       1  cm31023000001   \n",
       "61518     前卫村            1  31.717627   121.5096       1  cm31023000001   \n",
       "61769     前卫村            1  31.717627   121.5096       1  cm31023000001   \n",
       "62020     前卫村            1  31.717627   121.5096       1  cm31023000001   \n",
       "62271     前卫村            1  31.717627   121.5096       1  cm31023000001   \n",
       "\n",
       "        PARKING_NAME  BERTH  PERCENTAGE            starttime  \n",
       "57502  上海农闲乐休闲娱乐有限公司   10.0        0.10  2021-03-25 08:53:00  \n",
       "57753  上海农闲乐休闲娱乐有限公司   10.0        0.10  2021-03-25 08:58:00  \n",
       "58004  上海农闲乐休闲娱乐有限公司   10.0        0.10  2021-03-25 09:03:00  \n",
       "58255  上海农闲乐休闲娱乐有限公司   10.0        0.10  2021-03-25 09:08:00  \n",
       "58506  上海农闲乐休闲娱乐有限公司   10.0        0.10  2021-03-25 09:13:00  \n",
       "58757  上海农闲乐休闲娱乐有限公司   10.0        0.10  2021-03-25 09:18:00  \n",
       "59008  上海农闲乐休闲娱乐有限公司   10.0        0.10  2021-03-25 09:23:00  \n",
       "59259  上海农闲乐休闲娱乐有限公司   10.0        0.10  2021-03-25 09:28:00  \n",
       "59510  上海农闲乐休闲娱乐有限公司   10.0        0.10  2021-03-25 09:33:00  \n",
       "59761  上海农闲乐休闲娱乐有限公司   10.0        0.10  2021-03-25 09:38:00  \n",
       "60012  上海农闲乐休闲娱乐有限公司   10.0        0.10  2021-03-25 09:43:00  \n",
       "60263  上海农闲乐休闲娱乐有限公司   10.0        0.10  2021-03-25 09:58:00  \n",
       "60514  上海农闲乐休闲娱乐有限公司   10.0        0.10  2021-03-25 10:03:00  \n",
       "60765  上海农闲乐休闲娱乐有限公司   10.0        0.10  2021-03-25 10:08:00  \n",
       "61016  上海农闲乐休闲娱乐有限公司  100.0        1.00  2021-03-25 10:13:00  \n",
       "61267  上海农闲乐休闲娱乐有限公司   99.0        0.99  2021-03-25 10:18:00  \n",
       "61518  上海农闲乐休闲娱乐有限公司   99.0        0.99  2021-03-25 10:23:00  \n",
       "61769  上海农闲乐休闲娱乐有限公司   98.0        0.98  2021-03-25 10:28:00  \n",
       "62020  上海农闲乐休闲娱乐有限公司   97.0        0.97  2021-03-25 10:33:00  \n",
       "62271  上海农闲乐休闲娱乐有限公司   97.0        0.97  2021-03-25 10:38:00  "
      ],
      "text/html": "<div>\n<style scoped>\n    .dataframe tbody tr th:only-of-type {\n        vertical-align: middle;\n    }\n\n    .dataframe tbody tr th {\n        vertical-align: top;\n    }\n\n    .dataframe thead th {\n        text-align: right;\n    }\n</style>\n<table border=\"1\" class=\"dataframe\">\n  <thead>\n    <tr style=\"text-align: right;\">\n      <th></th>\n      <th>ADDRESS</th>\n      <th>BUSY_STATUS</th>\n      <th>LATITUDE</th>\n      <th>LONGITUDE</th>\n      <th>P_TYPE</th>\n      <th>PARKING_ID</th>\n      <th>PARKING_NAME</th>\n      <th>BERTH</th>\n      <th>PERCENTAGE</th>\n      <th>starttime</th>\n    </tr>\n  </thead>\n  <tbody>\n    <tr>\n      <th>57502</th>\n      <td>前卫村</td>\n      <td>1</td>\n      <td>31.717627</td>\n      <td>121.5096</td>\n      <td>1</td>\n      <td>cm31023000001</td>\n      <td>上海农闲乐休闲娱乐有限公司</td>\n      <td>10.0</td>\n      <td>0.10</td>\n      <td>2021-03-25 08:53:00</td>\n    </tr>\n    <tr>\n      <th>57753</th>\n      <td>前卫村</td>\n      <td>1</td>\n      <td>31.717627</td>\n      <td>121.5096</td>\n      <td>1</td>\n      <td>cm31023000001</td>\n      <td>上海农闲乐休闲娱乐有限公司</td>\n      <td>10.0</td>\n      <td>0.10</td>\n      <td>2021-03-25 08:58:00</td>\n    </tr>\n    <tr>\n      <th>58004</th>\n      <td>前卫村</td>\n      <td>1</td>\n      <td>31.717627</td>\n      <td>121.5096</td>\n      <td>1</td>\n      <td>cm31023000001</td>\n      <td>上海农闲乐休闲娱乐有限公司</td>\n      <td>10.0</td>\n      <td>0.10</td>\n      <td>2021-03-25 09:03:00</td>\n    </tr>\n    <tr>\n      <th>58255</th>\n      <td>前卫村</td>\n      <td>1</td>\n      <td>31.717627</td>\n      <td>121.5096</td>\n      <td>1</td>\n      <td>cm31023000001</td>\n      <td>上海农闲乐休闲娱乐有限公司</td>\n      <td>10.0</td>\n      <td>0.10</td>\n      <td>2021-03-25 09:08:00</td>\n    </tr>\n    <tr>\n      <th>58506</th>\n      <td>前卫村</td>\n      <td>1</td>\n      <td>31.717627</td>\n      <td>121.5096</td>\n      <td>1</td>\n      <td>cm31023000001</td>\n      <td>上海农闲乐休闲娱乐有限公司</td>\n      <td>10.0</td>\n      <td>0.10</td>\n      <td>2021-03-25 09:13:00</td>\n    </tr>\n    <tr>\n      <th>58757</th>\n      <td>前卫村</td>\n      <td>1</td>\n      <td>31.717627</td>\n      <td>121.5096</td>\n      <td>1</td>\n      <td>cm31023000001</td>\n      <td>上海农闲乐休闲娱乐有限公司</td>\n      <td>10.0</td>\n      <td>0.10</td>\n      <td>2021-03-25 09:18:00</td>\n    </tr>\n    <tr>\n      <th>59008</th>\n      <td>前卫村</td>\n      <td>1</td>\n      <td>31.717627</td>\n      <td>121.5096</td>\n      <td>1</td>\n      <td>cm31023000001</td>\n      <td>上海农闲乐休闲娱乐有限公司</td>\n      <td>10.0</td>\n      <td>0.10</td>\n      <td>2021-03-25 09:23:00</td>\n    </tr>\n    <tr>\n      <th>59259</th>\n      <td>前卫村</td>\n      <td>1</td>\n      <td>31.717627</td>\n      <td>121.5096</td>\n      <td>1</td>\n      <td>cm31023000001</td>\n      <td>上海农闲乐休闲娱乐有限公司</td>\n      <td>10.0</td>\n      <td>0.10</td>\n      <td>2021-03-25 09:28:00</td>\n    </tr>\n    <tr>\n      <th>59510</th>\n      <td>前卫村</td>\n      <td>1</td>\n      <td>31.717627</td>\n      <td>121.5096</td>\n      <td>1</td>\n      <td>cm31023000001</td>\n      <td>上海农闲乐休闲娱乐有限公司</td>\n      <td>10.0</td>\n      <td>0.10</td>\n      <td>2021-03-25 09:33:00</td>\n    </tr>\n    <tr>\n      <th>59761</th>\n      <td>前卫村</td>\n      <td>1</td>\n      <td>31.717627</td>\n      <td>121.5096</td>\n      <td>1</td>\n      <td>cm31023000001</td>\n      <td>上海农闲乐休闲娱乐有限公司</td>\n      <td>10.0</td>\n      <td>0.10</td>\n      <td>2021-03-25 09:38:00</td>\n    </tr>\n    <tr>\n      <th>60012</th>\n      <td>前卫村</td>\n      <td>1</td>\n      <td>31.717627</td>\n      <td>121.5096</td>\n      <td>1</td>\n      <td>cm31023000001</td>\n      <td>上海农闲乐休闲娱乐有限公司</td>\n      <td>10.0</td>\n      <td>0.10</td>\n      <td>2021-03-25 09:43:00</td>\n    </tr>\n    <tr>\n      <th>60263</th>\n      <td>前卫村</td>\n      <td>1</td>\n      <td>31.717627</td>\n      <td>121.5096</td>\n      <td>1</td>\n      <td>cm31023000001</td>\n      <td>上海农闲乐休闲娱乐有限公司</td>\n      <td>10.0</td>\n      <td>0.10</td>\n      <td>2021-03-25 09:58:00</td>\n    </tr>\n    <tr>\n      <th>60514</th>\n      <td>前卫村</td>\n      <td>1</td>\n      <td>31.717627</td>\n      <td>121.5096</td>\n      <td>1</td>\n      <td>cm31023000001</td>\n      <td>上海农闲乐休闲娱乐有限公司</td>\n      <td>10.0</td>\n      <td>0.10</td>\n      <td>2021-03-25 10:03:00</td>\n    </tr>\n    <tr>\n      <th>60765</th>\n      <td>前卫村</td>\n      <td>1</td>\n      <td>31.717627</td>\n      <td>121.5096</td>\n      <td>1</td>\n      <td>cm31023000001</td>\n      <td>上海农闲乐休闲娱乐有限公司</td>\n      <td>10.0</td>\n      <td>0.10</td>\n      <td>2021-03-25 10:08:00</td>\n    </tr>\n    <tr>\n      <th>61016</th>\n      <td>前卫村</td>\n      <td>1</td>\n      <td>31.717627</td>\n      <td>121.5096</td>\n      <td>1</td>\n      <td>cm31023000001</td>\n      <td>上海农闲乐休闲娱乐有限公司</td>\n      <td>100.0</td>\n      <td>1.00</td>\n      <td>2021-03-25 10:13:00</td>\n    </tr>\n    <tr>\n      <th>61267</th>\n      <td>前卫村</td>\n      <td>1</td>\n      <td>31.717627</td>\n      <td>121.5096</td>\n      <td>1</td>\n      <td>cm31023000001</td>\n      <td>上海农闲乐休闲娱乐有限公司</td>\n      <td>99.0</td>\n      <td>0.99</td>\n      <td>2021-03-25 10:18:00</td>\n    </tr>\n    <tr>\n      <th>61518</th>\n      <td>前卫村</td>\n      <td>1</td>\n      <td>31.717627</td>\n      <td>121.5096</td>\n      <td>1</td>\n      <td>cm31023000001</td>\n      <td>上海农闲乐休闲娱乐有限公司</td>\n      <td>99.0</td>\n      <td>0.99</td>\n      <td>2021-03-25 10:23:00</td>\n    </tr>\n    <tr>\n      <th>61769</th>\n      <td>前卫村</td>\n      <td>1</td>\n      <td>31.717627</td>\n      <td>121.5096</td>\n      <td>1</td>\n      <td>cm31023000001</td>\n      <td>上海农闲乐休闲娱乐有限公司</td>\n      <td>98.0</td>\n      <td>0.98</td>\n      <td>2021-03-25 10:28:00</td>\n    </tr>\n    <tr>\n      <th>62020</th>\n      <td>前卫村</td>\n      <td>1</td>\n      <td>31.717627</td>\n      <td>121.5096</td>\n      <td>1</td>\n      <td>cm31023000001</td>\n      <td>上海农闲乐休闲娱乐有限公司</td>\n      <td>97.0</td>\n      <td>0.97</td>\n      <td>2021-03-25 10:33:00</td>\n    </tr>\n    <tr>\n      <th>62271</th>\n      <td>前卫村</td>\n      <td>1</td>\n      <td>31.717627</td>\n      <td>121.5096</td>\n      <td>1</td>\n      <td>cm31023000001</td>\n      <td>上海农闲乐休闲娱乐有限公司</td>\n      <td>97.0</td>\n      <td>0.97</td>\n      <td>2021-03-25 10:38:00</td>\n    </tr>\n  </tbody>\n</table>\n</div>"
     },
     "metadata": {},
     "execution_count": 19
    }
   ],
   "source": [
    "a = data.sort_values([\"PARKING_ID\", \"starttime\"], axis=0)\n",
    "a.head(20)"
   ]
  },
  {
   "cell_type": "code",
   "execution_count": 20,
   "metadata": {},
   "outputs": [
    {
     "output_type": "execute_result",
     "data": {
      "text/plain": [
       "      ADDRESS  BUSY_STATUS   LATITUDE  LONGITUDE  P_TYPE     PARKING_ID  \\\n",
       "86349     前卫村            1  31.717627   121.5096       1  cm31023000001   \n",
       "86600     前卫村            1  31.717627   121.5096       1  cm31023000001   \n",
       "86851     前卫村            1  31.717627   121.5096       1  cm31023000001   \n",
       "87102     前卫村            1  31.717627   121.5096       1  cm31023000001   \n",
       "87353     前卫村            1  31.717627   121.5096       1  cm31023000001   \n",
       "87604     前卫村            1  31.717627   121.5096       1  cm31023000001   \n",
       "87855     前卫村            1  31.717627   121.5096       1  cm31023000001   \n",
       "88106     前卫村            1  31.717627   121.5096       1  cm31023000001   \n",
       "88357     前卫村            1  31.717627   121.5096       1  cm31023000001   \n",
       "88608     前卫村            1  31.717627   121.5096       1  cm31023000001   \n",
       "88859     前卫村            1  31.717627   121.5096       1  cm31023000001   \n",
       "89110     前卫村            1  31.717627   121.5096       1  cm31023000001   \n",
       "89361     前卫村            1  31.717627   121.5096       1  cm31023000001   \n",
       "89612     前卫村            1  31.717627   121.5096       1  cm31023000001   \n",
       "89863     前卫村            1  31.717627   121.5096       1  cm31023000001   \n",
       "90114     前卫村            1  31.717627   121.5096       1  cm31023000001   \n",
       "90365     前卫村            1  31.717627   121.5096       1  cm31023000001   \n",
       "90616     前卫村            1  31.717627   121.5096       1  cm31023000001   \n",
       "90867     前卫村            1  31.717627   121.5096       1  cm31023000001   \n",
       "91118     前卫村            1  31.717627   121.5096       1  cm31023000001   \n",
       "\n",
       "        PARKING_NAME  BERTH  PERCENTAGE            starttime  \n",
       "86349  上海农闲乐休闲娱乐有限公司   70.0        0.70  2021-03-25 21:54:00  \n",
       "86600  上海农闲乐休闲娱乐有限公司   70.0        0.70  2021-03-25 22:08:00  \n",
       "86851  上海农闲乐休闲娱乐有限公司   72.0        0.72  2021-03-25 22:13:00  \n",
       "87102  上海农闲乐休闲娱乐有限公司   78.0        0.78  2021-03-25 22:18:00  \n",
       "87353  上海农闲乐休闲娱乐有限公司   78.0        0.78  2021-03-25 22:24:00  \n",
       "87604  上海农闲乐休闲娱乐有限公司   82.0        0.82  2021-03-25 22:28:00  \n",
       "87855  上海农闲乐休闲娱乐有限公司   84.0        0.84  2021-03-25 22:33:00  \n",
       "88106  上海农闲乐休闲娱乐有限公司   84.0        0.84  2021-03-25 22:38:00  \n",
       "88357  上海农闲乐休闲娱乐有限公司   89.0        0.89  2021-03-25 22:43:00  \n",
       "88608  上海农闲乐休闲娱乐有限公司   87.0        0.87  2021-03-25 22:48:00  \n",
       "88859  上海农闲乐休闲娱乐有限公司   87.0        0.87  2021-03-25 22:54:00  \n",
       "89110  上海农闲乐休闲娱乐有限公司   86.0        0.86  2021-03-25 22:59:00  \n",
       "89361  上海农闲乐休闲娱乐有限公司   86.0        0.86  2021-03-25 23:08:00  \n",
       "89612  上海农闲乐休闲娱乐有限公司   87.0        0.87  2021-03-25 23:14:00  \n",
       "89863  上海农闲乐休闲娱乐有限公司   89.0        0.89  2021-03-25 23:19:00  \n",
       "90114  上海农闲乐休闲娱乐有限公司   91.0        0.91  2021-03-25 23:28:00  \n",
       "90365  上海农闲乐休闲娱乐有限公司   91.0        0.91  2021-03-25 23:33:00  \n",
       "90616  上海农闲乐休闲娱乐有限公司   95.0        0.95  2021-03-25 23:43:00  \n",
       "90867  上海农闲乐休闲娱乐有限公司   10.0        0.10  2021-03-25 23:48:00  \n",
       "91118  上海农闲乐休闲娱乐有限公司   10.0        0.10  2021-03-25 23:53:00  "
      ],
      "text/html": "<div>\n<style scoped>\n    .dataframe tbody tr th:only-of-type {\n        vertical-align: middle;\n    }\n\n    .dataframe tbody tr th {\n        vertical-align: top;\n    }\n\n    .dataframe thead th {\n        text-align: right;\n    }\n</style>\n<table border=\"1\" class=\"dataframe\">\n  <thead>\n    <tr style=\"text-align: right;\">\n      <th></th>\n      <th>ADDRESS</th>\n      <th>BUSY_STATUS</th>\n      <th>LATITUDE</th>\n      <th>LONGITUDE</th>\n      <th>P_TYPE</th>\n      <th>PARKING_ID</th>\n      <th>PARKING_NAME</th>\n      <th>BERTH</th>\n      <th>PERCENTAGE</th>\n      <th>starttime</th>\n    </tr>\n  </thead>\n  <tbody>\n    <tr>\n      <th>86349</th>\n      <td>前卫村</td>\n      <td>1</td>\n      <td>31.717627</td>\n      <td>121.5096</td>\n      <td>1</td>\n      <td>cm31023000001</td>\n      <td>上海农闲乐休闲娱乐有限公司</td>\n      <td>70.0</td>\n      <td>0.70</td>\n      <td>2021-03-25 21:54:00</td>\n    </tr>\n    <tr>\n      <th>86600</th>\n      <td>前卫村</td>\n      <td>1</td>\n      <td>31.717627</td>\n      <td>121.5096</td>\n      <td>1</td>\n      <td>cm31023000001</td>\n      <td>上海农闲乐休闲娱乐有限公司</td>\n      <td>70.0</td>\n      <td>0.70</td>\n      <td>2021-03-25 22:08:00</td>\n    </tr>\n    <tr>\n      <th>86851</th>\n      <td>前卫村</td>\n      <td>1</td>\n      <td>31.717627</td>\n      <td>121.5096</td>\n      <td>1</td>\n      <td>cm31023000001</td>\n      <td>上海农闲乐休闲娱乐有限公司</td>\n      <td>72.0</td>\n      <td>0.72</td>\n      <td>2021-03-25 22:13:00</td>\n    </tr>\n    <tr>\n      <th>87102</th>\n      <td>前卫村</td>\n      <td>1</td>\n      <td>31.717627</td>\n      <td>121.5096</td>\n      <td>1</td>\n      <td>cm31023000001</td>\n      <td>上海农闲乐休闲娱乐有限公司</td>\n      <td>78.0</td>\n      <td>0.78</td>\n      <td>2021-03-25 22:18:00</td>\n    </tr>\n    <tr>\n      <th>87353</th>\n      <td>前卫村</td>\n      <td>1</td>\n      <td>31.717627</td>\n      <td>121.5096</td>\n      <td>1</td>\n      <td>cm31023000001</td>\n      <td>上海农闲乐休闲娱乐有限公司</td>\n      <td>78.0</td>\n      <td>0.78</td>\n      <td>2021-03-25 22:24:00</td>\n    </tr>\n    <tr>\n      <th>87604</th>\n      <td>前卫村</td>\n      <td>1</td>\n      <td>31.717627</td>\n      <td>121.5096</td>\n      <td>1</td>\n      <td>cm31023000001</td>\n      <td>上海农闲乐休闲娱乐有限公司</td>\n      <td>82.0</td>\n      <td>0.82</td>\n      <td>2021-03-25 22:28:00</td>\n    </tr>\n    <tr>\n      <th>87855</th>\n      <td>前卫村</td>\n      <td>1</td>\n      <td>31.717627</td>\n      <td>121.5096</td>\n      <td>1</td>\n      <td>cm31023000001</td>\n      <td>上海农闲乐休闲娱乐有限公司</td>\n      <td>84.0</td>\n      <td>0.84</td>\n      <td>2021-03-25 22:33:00</td>\n    </tr>\n    <tr>\n      <th>88106</th>\n      <td>前卫村</td>\n      <td>1</td>\n      <td>31.717627</td>\n      <td>121.5096</td>\n      <td>1</td>\n      <td>cm31023000001</td>\n      <td>上海农闲乐休闲娱乐有限公司</td>\n      <td>84.0</td>\n      <td>0.84</td>\n      <td>2021-03-25 22:38:00</td>\n    </tr>\n    <tr>\n      <th>88357</th>\n      <td>前卫村</td>\n      <td>1</td>\n      <td>31.717627</td>\n      <td>121.5096</td>\n      <td>1</td>\n      <td>cm31023000001</td>\n      <td>上海农闲乐休闲娱乐有限公司</td>\n      <td>89.0</td>\n      <td>0.89</td>\n      <td>2021-03-25 22:43:00</td>\n    </tr>\n    <tr>\n      <th>88608</th>\n      <td>前卫村</td>\n      <td>1</td>\n      <td>31.717627</td>\n      <td>121.5096</td>\n      <td>1</td>\n      <td>cm31023000001</td>\n      <td>上海农闲乐休闲娱乐有限公司</td>\n      <td>87.0</td>\n      <td>0.87</td>\n      <td>2021-03-25 22:48:00</td>\n    </tr>\n    <tr>\n      <th>88859</th>\n      <td>前卫村</td>\n      <td>1</td>\n      <td>31.717627</td>\n      <td>121.5096</td>\n      <td>1</td>\n      <td>cm31023000001</td>\n      <td>上海农闲乐休闲娱乐有限公司</td>\n      <td>87.0</td>\n      <td>0.87</td>\n      <td>2021-03-25 22:54:00</td>\n    </tr>\n    <tr>\n      <th>89110</th>\n      <td>前卫村</td>\n      <td>1</td>\n      <td>31.717627</td>\n      <td>121.5096</td>\n      <td>1</td>\n      <td>cm31023000001</td>\n      <td>上海农闲乐休闲娱乐有限公司</td>\n      <td>86.0</td>\n      <td>0.86</td>\n      <td>2021-03-25 22:59:00</td>\n    </tr>\n    <tr>\n      <th>89361</th>\n      <td>前卫村</td>\n      <td>1</td>\n      <td>31.717627</td>\n      <td>121.5096</td>\n      <td>1</td>\n      <td>cm31023000001</td>\n      <td>上海农闲乐休闲娱乐有限公司</td>\n      <td>86.0</td>\n      <td>0.86</td>\n      <td>2021-03-25 23:08:00</td>\n    </tr>\n    <tr>\n      <th>89612</th>\n      <td>前卫村</td>\n      <td>1</td>\n      <td>31.717627</td>\n      <td>121.5096</td>\n      <td>1</td>\n      <td>cm31023000001</td>\n      <td>上海农闲乐休闲娱乐有限公司</td>\n      <td>87.0</td>\n      <td>0.87</td>\n      <td>2021-03-25 23:14:00</td>\n    </tr>\n    <tr>\n      <th>89863</th>\n      <td>前卫村</td>\n      <td>1</td>\n      <td>31.717627</td>\n      <td>121.5096</td>\n      <td>1</td>\n      <td>cm31023000001</td>\n      <td>上海农闲乐休闲娱乐有限公司</td>\n      <td>89.0</td>\n      <td>0.89</td>\n      <td>2021-03-25 23:19:00</td>\n    </tr>\n    <tr>\n      <th>90114</th>\n      <td>前卫村</td>\n      <td>1</td>\n      <td>31.717627</td>\n      <td>121.5096</td>\n      <td>1</td>\n      <td>cm31023000001</td>\n      <td>上海农闲乐休闲娱乐有限公司</td>\n      <td>91.0</td>\n      <td>0.91</td>\n      <td>2021-03-25 23:28:00</td>\n    </tr>\n    <tr>\n      <th>90365</th>\n      <td>前卫村</td>\n      <td>1</td>\n      <td>31.717627</td>\n      <td>121.5096</td>\n      <td>1</td>\n      <td>cm31023000001</td>\n      <td>上海农闲乐休闲娱乐有限公司</td>\n      <td>91.0</td>\n      <td>0.91</td>\n      <td>2021-03-25 23:33:00</td>\n    </tr>\n    <tr>\n      <th>90616</th>\n      <td>前卫村</td>\n      <td>1</td>\n      <td>31.717627</td>\n      <td>121.5096</td>\n      <td>1</td>\n      <td>cm31023000001</td>\n      <td>上海农闲乐休闲娱乐有限公司</td>\n      <td>95.0</td>\n      <td>0.95</td>\n      <td>2021-03-25 23:43:00</td>\n    </tr>\n    <tr>\n      <th>90867</th>\n      <td>前卫村</td>\n      <td>1</td>\n      <td>31.717627</td>\n      <td>121.5096</td>\n      <td>1</td>\n      <td>cm31023000001</td>\n      <td>上海农闲乐休闲娱乐有限公司</td>\n      <td>10.0</td>\n      <td>0.10</td>\n      <td>2021-03-25 23:48:00</td>\n    </tr>\n    <tr>\n      <th>91118</th>\n      <td>前卫村</td>\n      <td>1</td>\n      <td>31.717627</td>\n      <td>121.5096</td>\n      <td>1</td>\n      <td>cm31023000001</td>\n      <td>上海农闲乐休闲娱乐有限公司</td>\n      <td>10.0</td>\n      <td>0.10</td>\n      <td>2021-03-25 23:53:00</td>\n    </tr>\n  </tbody>\n</table>\n</div>"
     },
     "metadata": {},
     "execution_count": 20
    }
   ],
   "source": [
    "b = a[a[\"PARKING_ID\"]==\"cm31023000001\"]\n",
    "b.tail(20)"
   ]
  },
  {
   "cell_type": "code",
   "execution_count": 21,
   "metadata": {},
   "outputs": [
    {
     "output_type": "execute_result",
     "data": {
      "text/plain": [
       "      ADDRESS  BUSY_STATUS   LATITUDE  LONGITUDE  P_TYPE     PARKING_ID  \\\n",
       "57502     前卫村            1  31.717627   121.5096       1  cm31023000001   \n",
       "57753     前卫村            1  31.717627   121.5096       1  cm31023000001   \n",
       "58004     前卫村            1  31.717627   121.5096       1  cm31023000001   \n",
       "58255     前卫村            1  31.717627   121.5096       1  cm31023000001   \n",
       "58506     前卫村            1  31.717627   121.5096       1  cm31023000001   \n",
       "...       ...          ...        ...        ...     ...            ...   \n",
       "90114     前卫村            1  31.717627   121.5096       1  cm31023000001   \n",
       "90365     前卫村            1  31.717627   121.5096       1  cm31023000001   \n",
       "90616     前卫村            1  31.717627   121.5096       1  cm31023000001   \n",
       "90867     前卫村            1  31.717627   121.5096       1  cm31023000001   \n",
       "91118     前卫村            1  31.717627   121.5096       1  cm31023000001   \n",
       "\n",
       "        PARKING_NAME  BERTH  PERCENTAGE            starttime  \n",
       "57502  上海农闲乐休闲娱乐有限公司   10.0        0.10  2021-03-25 08:53:00  \n",
       "57753  上海农闲乐休闲娱乐有限公司   10.0        0.10  2021-03-25 08:58:00  \n",
       "58004  上海农闲乐休闲娱乐有限公司   10.0        0.10  2021-03-25 09:03:00  \n",
       "58255  上海农闲乐休闲娱乐有限公司   10.0        0.10  2021-03-25 09:08:00  \n",
       "58506  上海农闲乐休闲娱乐有限公司   10.0        0.10  2021-03-25 09:13:00  \n",
       "...              ...    ...         ...                  ...  \n",
       "90114  上海农闲乐休闲娱乐有限公司   91.0        0.91  2021-03-25 23:28:00  \n",
       "90365  上海农闲乐休闲娱乐有限公司   91.0        0.91  2021-03-25 23:33:00  \n",
       "90616  上海农闲乐休闲娱乐有限公司   95.0        0.95  2021-03-25 23:43:00  \n",
       "90867  上海农闲乐休闲娱乐有限公司   10.0        0.10  2021-03-25 23:48:00  \n",
       "91118  上海农闲乐休闲娱乐有限公司   10.0        0.10  2021-03-25 23:53:00  \n",
       "\n",
       "[135 rows x 10 columns]"
      ],
      "text/html": "<div>\n<style scoped>\n    .dataframe tbody tr th:only-of-type {\n        vertical-align: middle;\n    }\n\n    .dataframe tbody tr th {\n        vertical-align: top;\n    }\n\n    .dataframe thead th {\n        text-align: right;\n    }\n</style>\n<table border=\"1\" class=\"dataframe\">\n  <thead>\n    <tr style=\"text-align: right;\">\n      <th></th>\n      <th>ADDRESS</th>\n      <th>BUSY_STATUS</th>\n      <th>LATITUDE</th>\n      <th>LONGITUDE</th>\n      <th>P_TYPE</th>\n      <th>PARKING_ID</th>\n      <th>PARKING_NAME</th>\n      <th>BERTH</th>\n      <th>PERCENTAGE</th>\n      <th>starttime</th>\n    </tr>\n  </thead>\n  <tbody>\n    <tr>\n      <th>57502</th>\n      <td>前卫村</td>\n      <td>1</td>\n      <td>31.717627</td>\n      <td>121.5096</td>\n      <td>1</td>\n      <td>cm31023000001</td>\n      <td>上海农闲乐休闲娱乐有限公司</td>\n      <td>10.0</td>\n      <td>0.10</td>\n      <td>2021-03-25 08:53:00</td>\n    </tr>\n    <tr>\n      <th>57753</th>\n      <td>前卫村</td>\n      <td>1</td>\n      <td>31.717627</td>\n      <td>121.5096</td>\n      <td>1</td>\n      <td>cm31023000001</td>\n      <td>上海农闲乐休闲娱乐有限公司</td>\n      <td>10.0</td>\n      <td>0.10</td>\n      <td>2021-03-25 08:58:00</td>\n    </tr>\n    <tr>\n      <th>58004</th>\n      <td>前卫村</td>\n      <td>1</td>\n      <td>31.717627</td>\n      <td>121.5096</td>\n      <td>1</td>\n      <td>cm31023000001</td>\n      <td>上海农闲乐休闲娱乐有限公司</td>\n      <td>10.0</td>\n      <td>0.10</td>\n      <td>2021-03-25 09:03:00</td>\n    </tr>\n    <tr>\n      <th>58255</th>\n      <td>前卫村</td>\n      <td>1</td>\n      <td>31.717627</td>\n      <td>121.5096</td>\n      <td>1</td>\n      <td>cm31023000001</td>\n      <td>上海农闲乐休闲娱乐有限公司</td>\n      <td>10.0</td>\n      <td>0.10</td>\n      <td>2021-03-25 09:08:00</td>\n    </tr>\n    <tr>\n      <th>58506</th>\n      <td>前卫村</td>\n      <td>1</td>\n      <td>31.717627</td>\n      <td>121.5096</td>\n      <td>1</td>\n      <td>cm31023000001</td>\n      <td>上海农闲乐休闲娱乐有限公司</td>\n      <td>10.0</td>\n      <td>0.10</td>\n      <td>2021-03-25 09:13:00</td>\n    </tr>\n    <tr>\n      <th>...</th>\n      <td>...</td>\n      <td>...</td>\n      <td>...</td>\n      <td>...</td>\n      <td>...</td>\n      <td>...</td>\n      <td>...</td>\n      <td>...</td>\n      <td>...</td>\n      <td>...</td>\n    </tr>\n    <tr>\n      <th>90114</th>\n      <td>前卫村</td>\n      <td>1</td>\n      <td>31.717627</td>\n      <td>121.5096</td>\n      <td>1</td>\n      <td>cm31023000001</td>\n      <td>上海农闲乐休闲娱乐有限公司</td>\n      <td>91.0</td>\n      <td>0.91</td>\n      <td>2021-03-25 23:28:00</td>\n    </tr>\n    <tr>\n      <th>90365</th>\n      <td>前卫村</td>\n      <td>1</td>\n      <td>31.717627</td>\n      <td>121.5096</td>\n      <td>1</td>\n      <td>cm31023000001</td>\n      <td>上海农闲乐休闲娱乐有限公司</td>\n      <td>91.0</td>\n      <td>0.91</td>\n      <td>2021-03-25 23:33:00</td>\n    </tr>\n    <tr>\n      <th>90616</th>\n      <td>前卫村</td>\n      <td>1</td>\n      <td>31.717627</td>\n      <td>121.5096</td>\n      <td>1</td>\n      <td>cm31023000001</td>\n      <td>上海农闲乐休闲娱乐有限公司</td>\n      <td>95.0</td>\n      <td>0.95</td>\n      <td>2021-03-25 23:43:00</td>\n    </tr>\n    <tr>\n      <th>90867</th>\n      <td>前卫村</td>\n      <td>1</td>\n      <td>31.717627</td>\n      <td>121.5096</td>\n      <td>1</td>\n      <td>cm31023000001</td>\n      <td>上海农闲乐休闲娱乐有限公司</td>\n      <td>10.0</td>\n      <td>0.10</td>\n      <td>2021-03-25 23:48:00</td>\n    </tr>\n    <tr>\n      <th>91118</th>\n      <td>前卫村</td>\n      <td>1</td>\n      <td>31.717627</td>\n      <td>121.5096</td>\n      <td>1</td>\n      <td>cm31023000001</td>\n      <td>上海农闲乐休闲娱乐有限公司</td>\n      <td>10.0</td>\n      <td>0.10</td>\n      <td>2021-03-25 23:53:00</td>\n    </tr>\n  </tbody>\n</table>\n<p>135 rows × 10 columns</p>\n</div>"
     },
     "metadata": {},
     "execution_count": 21
    }
   ],
   "source": [
    "b"
   ]
  },
  {
   "cell_type": "code",
   "execution_count": 22,
   "metadata": {},
   "outputs": [
    {
     "output_type": "stream",
     "name": "stderr",
     "text": [
      "<ipython-input-22-db464b035189>:1: SettingWithCopyWarning: \nA value is trying to be set on a copy of a slice from a DataFrame.\nTry using .loc[row_indexer,col_indexer] = value instead\n\nSee the caveats in the documentation: https://pandas.pydata.org/pandas-docs/stable/user_guide/indexing.html#returning-a-view-versus-a-copy\n  b[\"starttime\"] = pd.to_datetime(b[\"starttime\"])\n"
     ]
    }
   ],
   "source": [
    "b[\"starttime\"] = pd.to_datetime(b[\"starttime\"])"
   ]
  },
  {
   "cell_type": "code",
   "execution_count": 23,
   "metadata": {},
   "outputs": [
    {
     "output_type": "stream",
     "name": "stdout",
     "text": [
      "<class 'pandas.core.frame.DataFrame'>\nInt64Index: 135 entries, 57502 to 91118\nData columns (total 10 columns):\n #   Column        Non-Null Count  Dtype         \n---  ------        --------------  -----         \n 0   ADDRESS       135 non-null    object        \n 1   BUSY_STATUS   135 non-null    int64         \n 2   LATITUDE      135 non-null    float64       \n 3   LONGITUDE     135 non-null    float64       \n 4   P_TYPE        135 non-null    int64         \n 5   PARKING_ID    135 non-null    object        \n 6   PARKING_NAME  135 non-null    object        \n 7   BERTH         134 non-null    float64       \n 8   PERCENTAGE    134 non-null    float64       \n 9   starttime     135 non-null    datetime64[ns]\ndtypes: datetime64[ns](1), float64(4), int64(2), object(3)\nmemory usage: 11.6+ KB\n"
     ]
    }
   ],
   "source": [
    "b.info()"
   ]
  },
  {
   "cell_type": "code",
   "execution_count": 24,
   "metadata": {},
   "outputs": [
    {
     "output_type": "stream",
     "name": "stdout",
     "text": [
      "<class 'pandas.core.frame.DataFrame'>\n",
      "Int64Index: 135 entries, 57502 to 91118\n",
      "Data columns (total 10 columns):\n",
      " #   Column        Non-Null Count  Dtype         \n",
      "---  ------        --------------  -----         \n",
      " 0   ADDRESS       135 non-null    object        \n",
      " 1   BUSY_STATUS   135 non-null    int64         \n",
      " 2   LATITUDE      135 non-null    float64       \n",
      " 3   LONGITUDE     135 non-null    float64       \n",
      " 4   P_TYPE        135 non-null    int64         \n",
      " 5   PARKING_ID    135 non-null    object        \n",
      " 6   PARKING_NAME  135 non-null    object        \n",
      " 7   BERTH         134 non-null    float64       \n",
      " 8   PERCENTAGE    134 non-null    float64       \n",
      " 9   starttime     135 non-null    datetime64[ns]\n",
      "dtypes: datetime64[ns](1), float64(4), int64(2), object(3)\n",
      "memory usage: 11.6+ KB\n",
      "<ipython-input-24-717f2051fb87>:1: SettingWithCopyWarning: \n",
      "A value is trying to be set on a copy of a slice from a DataFrame.\n",
      "Try using .loc[row_indexer,col_indexer] = value instead\n",
      "\n",
      "See the caveats in the documentation: https://pandas.pydata.org/pandas-docs/stable/user_guide/indexing.html#returning-a-view-versus-a-copy\n",
      "  b[\"starttime\"] = b[\"starttime\"].apply(lambda x: datetime.datetime(x.year, x.month, x.day, x.hour, x.minute//5*5))\n"
     ]
    }
   ],
   "source": [
    "b[\"starttime\"] = b[\"starttime\"].apply(lambda x: datetime.datetime(x.year, x.month, x.day, x.hour, x.minute//5*5))\n",
    "b.info()"
   ]
  },
  {
   "cell_type": "code",
   "execution_count": 25,
   "metadata": {},
   "outputs": [
    {
     "output_type": "execute_result",
     "data": {
      "text/plain": [
       "      ADDRESS  BUSY_STATUS   LATITUDE  LONGITUDE  P_TYPE     PARKING_ID  \\\n",
       "57502     前卫村            1  31.717627   121.5096       1  cm31023000001   \n",
       "57753     前卫村            1  31.717627   121.5096       1  cm31023000001   \n",
       "58004     前卫村            1  31.717627   121.5096       1  cm31023000001   \n",
       "58255     前卫村            1  31.717627   121.5096       1  cm31023000001   \n",
       "58506     前卫村            1  31.717627   121.5096       1  cm31023000001   \n",
       "...       ...          ...        ...        ...     ...            ...   \n",
       "90114     前卫村            1  31.717627   121.5096       1  cm31023000001   \n",
       "90365     前卫村            1  31.717627   121.5096       1  cm31023000001   \n",
       "90616     前卫村            1  31.717627   121.5096       1  cm31023000001   \n",
       "90867     前卫村            1  31.717627   121.5096       1  cm31023000001   \n",
       "91118     前卫村            1  31.717627   121.5096       1  cm31023000001   \n",
       "\n",
       "        PARKING_NAME  BERTH  PERCENTAGE           starttime  \n",
       "57502  上海农闲乐休闲娱乐有限公司   10.0        0.10 2021-03-25 08:50:00  \n",
       "57753  上海农闲乐休闲娱乐有限公司   10.0        0.10 2021-03-25 08:55:00  \n",
       "58004  上海农闲乐休闲娱乐有限公司   10.0        0.10 2021-03-25 09:00:00  \n",
       "58255  上海农闲乐休闲娱乐有限公司   10.0        0.10 2021-03-25 09:05:00  \n",
       "58506  上海农闲乐休闲娱乐有限公司   10.0        0.10 2021-03-25 09:10:00  \n",
       "...              ...    ...         ...                 ...  \n",
       "90114  上海农闲乐休闲娱乐有限公司   91.0        0.91 2021-03-25 23:25:00  \n",
       "90365  上海农闲乐休闲娱乐有限公司   91.0        0.91 2021-03-25 23:30:00  \n",
       "90616  上海农闲乐休闲娱乐有限公司   95.0        0.95 2021-03-25 23:40:00  \n",
       "90867  上海农闲乐休闲娱乐有限公司   10.0        0.10 2021-03-25 23:45:00  \n",
       "91118  上海农闲乐休闲娱乐有限公司   10.0        0.10 2021-03-25 23:50:00  \n",
       "\n",
       "[135 rows x 10 columns]"
      ],
      "text/html": "<div>\n<style scoped>\n    .dataframe tbody tr th:only-of-type {\n        vertical-align: middle;\n    }\n\n    .dataframe tbody tr th {\n        vertical-align: top;\n    }\n\n    .dataframe thead th {\n        text-align: right;\n    }\n</style>\n<table border=\"1\" class=\"dataframe\">\n  <thead>\n    <tr style=\"text-align: right;\">\n      <th></th>\n      <th>ADDRESS</th>\n      <th>BUSY_STATUS</th>\n      <th>LATITUDE</th>\n      <th>LONGITUDE</th>\n      <th>P_TYPE</th>\n      <th>PARKING_ID</th>\n      <th>PARKING_NAME</th>\n      <th>BERTH</th>\n      <th>PERCENTAGE</th>\n      <th>starttime</th>\n    </tr>\n  </thead>\n  <tbody>\n    <tr>\n      <th>57502</th>\n      <td>前卫村</td>\n      <td>1</td>\n      <td>31.717627</td>\n      <td>121.5096</td>\n      <td>1</td>\n      <td>cm31023000001</td>\n      <td>上海农闲乐休闲娱乐有限公司</td>\n      <td>10.0</td>\n      <td>0.10</td>\n      <td>2021-03-25 08:50:00</td>\n    </tr>\n    <tr>\n      <th>57753</th>\n      <td>前卫村</td>\n      <td>1</td>\n      <td>31.717627</td>\n      <td>121.5096</td>\n      <td>1</td>\n      <td>cm31023000001</td>\n      <td>上海农闲乐休闲娱乐有限公司</td>\n      <td>10.0</td>\n      <td>0.10</td>\n      <td>2021-03-25 08:55:00</td>\n    </tr>\n    <tr>\n      <th>58004</th>\n      <td>前卫村</td>\n      <td>1</td>\n      <td>31.717627</td>\n      <td>121.5096</td>\n      <td>1</td>\n      <td>cm31023000001</td>\n      <td>上海农闲乐休闲娱乐有限公司</td>\n      <td>10.0</td>\n      <td>0.10</td>\n      <td>2021-03-25 09:00:00</td>\n    </tr>\n    <tr>\n      <th>58255</th>\n      <td>前卫村</td>\n      <td>1</td>\n      <td>31.717627</td>\n      <td>121.5096</td>\n      <td>1</td>\n      <td>cm31023000001</td>\n      <td>上海农闲乐休闲娱乐有限公司</td>\n      <td>10.0</td>\n      <td>0.10</td>\n      <td>2021-03-25 09:05:00</td>\n    </tr>\n    <tr>\n      <th>58506</th>\n      <td>前卫村</td>\n      <td>1</td>\n      <td>31.717627</td>\n      <td>121.5096</td>\n      <td>1</td>\n      <td>cm31023000001</td>\n      <td>上海农闲乐休闲娱乐有限公司</td>\n      <td>10.0</td>\n      <td>0.10</td>\n      <td>2021-03-25 09:10:00</td>\n    </tr>\n    <tr>\n      <th>...</th>\n      <td>...</td>\n      <td>...</td>\n      <td>...</td>\n      <td>...</td>\n      <td>...</td>\n      <td>...</td>\n      <td>...</td>\n      <td>...</td>\n      <td>...</td>\n      <td>...</td>\n    </tr>\n    <tr>\n      <th>90114</th>\n      <td>前卫村</td>\n      <td>1</td>\n      <td>31.717627</td>\n      <td>121.5096</td>\n      <td>1</td>\n      <td>cm31023000001</td>\n      <td>上海农闲乐休闲娱乐有限公司</td>\n      <td>91.0</td>\n      <td>0.91</td>\n      <td>2021-03-25 23:25:00</td>\n    </tr>\n    <tr>\n      <th>90365</th>\n      <td>前卫村</td>\n      <td>1</td>\n      <td>31.717627</td>\n      <td>121.5096</td>\n      <td>1</td>\n      <td>cm31023000001</td>\n      <td>上海农闲乐休闲娱乐有限公司</td>\n      <td>91.0</td>\n      <td>0.91</td>\n      <td>2021-03-25 23:30:00</td>\n    </tr>\n    <tr>\n      <th>90616</th>\n      <td>前卫村</td>\n      <td>1</td>\n      <td>31.717627</td>\n      <td>121.5096</td>\n      <td>1</td>\n      <td>cm31023000001</td>\n      <td>上海农闲乐休闲娱乐有限公司</td>\n      <td>95.0</td>\n      <td>0.95</td>\n      <td>2021-03-25 23:40:00</td>\n    </tr>\n    <tr>\n      <th>90867</th>\n      <td>前卫村</td>\n      <td>1</td>\n      <td>31.717627</td>\n      <td>121.5096</td>\n      <td>1</td>\n      <td>cm31023000001</td>\n      <td>上海农闲乐休闲娱乐有限公司</td>\n      <td>10.0</td>\n      <td>0.10</td>\n      <td>2021-03-25 23:45:00</td>\n    </tr>\n    <tr>\n      <th>91118</th>\n      <td>前卫村</td>\n      <td>1</td>\n      <td>31.717627</td>\n      <td>121.5096</td>\n      <td>1</td>\n      <td>cm31023000001</td>\n      <td>上海农闲乐休闲娱乐有限公司</td>\n      <td>10.0</td>\n      <td>0.10</td>\n      <td>2021-03-25 23:50:00</td>\n    </tr>\n  </tbody>\n</table>\n<p>135 rows × 10 columns</p>\n</div>"
     },
     "metadata": {},
     "execution_count": 25
    }
   ],
   "source": [
    "b"
   ]
  },
  {
   "cell_type": "code",
   "execution_count": 26,
   "metadata": {},
   "outputs": [
    {
     "output_type": "execute_result",
     "data": {
      "text/plain": [
       "57502     True\n",
       "57753     True\n",
       "58004     True\n",
       "58255     True\n",
       "58506     True\n",
       "         ...  \n",
       "90114    False\n",
       "90365    False\n",
       "90616    False\n",
       "90867    False\n",
       "91118    False\n",
       "Name: starttime, Length: 135, dtype: bool"
      ]
     },
     "metadata": {},
     "execution_count": 26
    }
   ],
   "source": [
    "index = b[\"starttime\"].apply(lambda x: True if (x.hour > 6 and x.hour < 22) else False)\n",
    "index"
   ]
  },
  {
   "cell_type": "code",
   "execution_count": 27,
   "metadata": {},
   "outputs": [
    {
     "output_type": "execute_result",
     "data": {
      "text/plain": [
       "      ADDRESS  BUSY_STATUS   LATITUDE  LONGITUDE  P_TYPE     PARKING_ID  \\\n",
       "57502     前卫村            1  31.717627   121.5096       1  cm31023000001   \n",
       "57753     前卫村            1  31.717627   121.5096       1  cm31023000001   \n",
       "58004     前卫村            1  31.717627   121.5096       1  cm31023000001   \n",
       "58255     前卫村            1  31.717627   121.5096       1  cm31023000001   \n",
       "58506     前卫村            1  31.717627   121.5096       1  cm31023000001   \n",
       "...       ...          ...        ...        ...     ...            ...   \n",
       "85345     前卫村            1  31.717627   121.5096       1  cm31023000001   \n",
       "85596     前卫村            1  31.717627   121.5096       1  cm31023000001   \n",
       "85847     前卫村            1  31.717627   121.5096       1  cm31023000001   \n",
       "86098     前卫村            1  31.717627   121.5096       1  cm31023000001   \n",
       "86349     前卫村            1  31.717627   121.5096       1  cm31023000001   \n",
       "\n",
       "        PARKING_NAME  BERTH  PERCENTAGE           starttime  \n",
       "57502  上海农闲乐休闲娱乐有限公司   10.0        0.10 2021-03-25 08:50:00  \n",
       "57753  上海农闲乐休闲娱乐有限公司   10.0        0.10 2021-03-25 08:55:00  \n",
       "58004  上海农闲乐休闲娱乐有限公司   10.0        0.10 2021-03-25 09:00:00  \n",
       "58255  上海农闲乐休闲娱乐有限公司   10.0        0.10 2021-03-25 09:05:00  \n",
       "58506  上海农闲乐休闲娱乐有限公司   10.0        0.10 2021-03-25 09:10:00  \n",
       "...              ...    ...         ...                 ...  \n",
       "85345  上海农闲乐休闲娱乐有限公司   77.0        0.77 2021-03-25 21:20:00  \n",
       "85596  上海农闲乐休闲娱乐有限公司   76.0        0.76 2021-03-25 21:25:00  \n",
       "85847  上海农闲乐休闲娱乐有限公司    NaN         NaN 2021-03-25 21:30:00  \n",
       "86098  上海农闲乐休闲娱乐有限公司   73.0        0.73 2021-03-25 21:40:00  \n",
       "86349  上海农闲乐休闲娱乐有限公司   70.0        0.70 2021-03-25 21:50:00  \n",
       "\n",
       "[116 rows x 10 columns]"
      ],
      "text/html": "<div>\n<style scoped>\n    .dataframe tbody tr th:only-of-type {\n        vertical-align: middle;\n    }\n\n    .dataframe tbody tr th {\n        vertical-align: top;\n    }\n\n    .dataframe thead th {\n        text-align: right;\n    }\n</style>\n<table border=\"1\" class=\"dataframe\">\n  <thead>\n    <tr style=\"text-align: right;\">\n      <th></th>\n      <th>ADDRESS</th>\n      <th>BUSY_STATUS</th>\n      <th>LATITUDE</th>\n      <th>LONGITUDE</th>\n      <th>P_TYPE</th>\n      <th>PARKING_ID</th>\n      <th>PARKING_NAME</th>\n      <th>BERTH</th>\n      <th>PERCENTAGE</th>\n      <th>starttime</th>\n    </tr>\n  </thead>\n  <tbody>\n    <tr>\n      <th>57502</th>\n      <td>前卫村</td>\n      <td>1</td>\n      <td>31.717627</td>\n      <td>121.5096</td>\n      <td>1</td>\n      <td>cm31023000001</td>\n      <td>上海农闲乐休闲娱乐有限公司</td>\n      <td>10.0</td>\n      <td>0.10</td>\n      <td>2021-03-25 08:50:00</td>\n    </tr>\n    <tr>\n      <th>57753</th>\n      <td>前卫村</td>\n      <td>1</td>\n      <td>31.717627</td>\n      <td>121.5096</td>\n      <td>1</td>\n      <td>cm31023000001</td>\n      <td>上海农闲乐休闲娱乐有限公司</td>\n      <td>10.0</td>\n      <td>0.10</td>\n      <td>2021-03-25 08:55:00</td>\n    </tr>\n    <tr>\n      <th>58004</th>\n      <td>前卫村</td>\n      <td>1</td>\n      <td>31.717627</td>\n      <td>121.5096</td>\n      <td>1</td>\n      <td>cm31023000001</td>\n      <td>上海农闲乐休闲娱乐有限公司</td>\n      <td>10.0</td>\n      <td>0.10</td>\n      <td>2021-03-25 09:00:00</td>\n    </tr>\n    <tr>\n      <th>58255</th>\n      <td>前卫村</td>\n      <td>1</td>\n      <td>31.717627</td>\n      <td>121.5096</td>\n      <td>1</td>\n      <td>cm31023000001</td>\n      <td>上海农闲乐休闲娱乐有限公司</td>\n      <td>10.0</td>\n      <td>0.10</td>\n      <td>2021-03-25 09:05:00</td>\n    </tr>\n    <tr>\n      <th>58506</th>\n      <td>前卫村</td>\n      <td>1</td>\n      <td>31.717627</td>\n      <td>121.5096</td>\n      <td>1</td>\n      <td>cm31023000001</td>\n      <td>上海农闲乐休闲娱乐有限公司</td>\n      <td>10.0</td>\n      <td>0.10</td>\n      <td>2021-03-25 09:10:00</td>\n    </tr>\n    <tr>\n      <th>...</th>\n      <td>...</td>\n      <td>...</td>\n      <td>...</td>\n      <td>...</td>\n      <td>...</td>\n      <td>...</td>\n      <td>...</td>\n      <td>...</td>\n      <td>...</td>\n      <td>...</td>\n    </tr>\n    <tr>\n      <th>85345</th>\n      <td>前卫村</td>\n      <td>1</td>\n      <td>31.717627</td>\n      <td>121.5096</td>\n      <td>1</td>\n      <td>cm31023000001</td>\n      <td>上海农闲乐休闲娱乐有限公司</td>\n      <td>77.0</td>\n      <td>0.77</td>\n      <td>2021-03-25 21:20:00</td>\n    </tr>\n    <tr>\n      <th>85596</th>\n      <td>前卫村</td>\n      <td>1</td>\n      <td>31.717627</td>\n      <td>121.5096</td>\n      <td>1</td>\n      <td>cm31023000001</td>\n      <td>上海农闲乐休闲娱乐有限公司</td>\n      <td>76.0</td>\n      <td>0.76</td>\n      <td>2021-03-25 21:25:00</td>\n    </tr>\n    <tr>\n      <th>85847</th>\n      <td>前卫村</td>\n      <td>1</td>\n      <td>31.717627</td>\n      <td>121.5096</td>\n      <td>1</td>\n      <td>cm31023000001</td>\n      <td>上海农闲乐休闲娱乐有限公司</td>\n      <td>NaN</td>\n      <td>NaN</td>\n      <td>2021-03-25 21:30:00</td>\n    </tr>\n    <tr>\n      <th>86098</th>\n      <td>前卫村</td>\n      <td>1</td>\n      <td>31.717627</td>\n      <td>121.5096</td>\n      <td>1</td>\n      <td>cm31023000001</td>\n      <td>上海农闲乐休闲娱乐有限公司</td>\n      <td>73.0</td>\n      <td>0.73</td>\n      <td>2021-03-25 21:40:00</td>\n    </tr>\n    <tr>\n      <th>86349</th>\n      <td>前卫村</td>\n      <td>1</td>\n      <td>31.717627</td>\n      <td>121.5096</td>\n      <td>1</td>\n      <td>cm31023000001</td>\n      <td>上海农闲乐休闲娱乐有限公司</td>\n      <td>70.0</td>\n      <td>0.70</td>\n      <td>2021-03-25 21:50:00</td>\n    </tr>\n  </tbody>\n</table>\n<p>116 rows × 10 columns</p>\n</div>"
     },
     "metadata": {},
     "execution_count": 27
    }
   ],
   "source": [
    "c = b[index]\n",
    "c"
   ]
  },
  {
   "cell_type": "code",
   "execution_count": 28,
   "metadata": {},
   "outputs": [
    {
     "output_type": "execute_result",
     "data": {
      "text/plain": [
       "      ADDRESS  BUSY_STATUS   LATITUDE  LONGITUDE  P_TYPE     PARKING_ID  \\\n",
       "57502     前卫村            1  31.717627   121.5096       1  cm31023000001   \n",
       "57753     前卫村            1  31.717627   121.5096       1  cm31023000001   \n",
       "58004     前卫村            1  31.717627   121.5096       1  cm31023000001   \n",
       "58255     前卫村            1  31.717627   121.5096       1  cm31023000001   \n",
       "58506     前卫村            1  31.717627   121.5096       1  cm31023000001   \n",
       "...       ...          ...        ...        ...     ...            ...   \n",
       "85345     前卫村            1  31.717627   121.5096       1  cm31023000001   \n",
       "85596     前卫村            1  31.717627   121.5096       1  cm31023000001   \n",
       "85847     前卫村            1  31.717627   121.5096       1  cm31023000001   \n",
       "86098     前卫村            1  31.717627   121.5096       1  cm31023000001   \n",
       "86349     前卫村            1  31.717627   121.5096       1  cm31023000001   \n",
       "\n",
       "        PARKING_NAME  BERTH  PERCENTAGE           starttime  \n",
       "57502  上海农闲乐休闲娱乐有限公司   10.0        0.10 2021-03-25 08:50:00  \n",
       "57753  上海农闲乐休闲娱乐有限公司   10.0        0.10 2021-03-25 08:55:00  \n",
       "58004  上海农闲乐休闲娱乐有限公司   10.0        0.10 2021-03-25 09:00:00  \n",
       "58255  上海农闲乐休闲娱乐有限公司   10.0        0.10 2021-03-25 09:05:00  \n",
       "58506  上海农闲乐休闲娱乐有限公司   10.0        0.10 2021-03-25 09:10:00  \n",
       "...              ...    ...         ...                 ...  \n",
       "85345  上海农闲乐休闲娱乐有限公司   77.0        0.77 2021-03-25 21:20:00  \n",
       "85596  上海农闲乐休闲娱乐有限公司   76.0        0.76 2021-03-25 21:25:00  \n",
       "85847  上海农闲乐休闲娱乐有限公司    NaN         NaN 2021-03-25 21:30:00  \n",
       "86098  上海农闲乐休闲娱乐有限公司   73.0        0.73 2021-03-25 21:40:00  \n",
       "86349  上海农闲乐休闲娱乐有限公司   70.0        0.70 2021-03-25 21:50:00  \n",
       "\n",
       "[116 rows x 10 columns]"
      ],
      "text/html": "<div>\n<style scoped>\n    .dataframe tbody tr th:only-of-type {\n        vertical-align: middle;\n    }\n\n    .dataframe tbody tr th {\n        vertical-align: top;\n    }\n\n    .dataframe thead th {\n        text-align: right;\n    }\n</style>\n<table border=\"1\" class=\"dataframe\">\n  <thead>\n    <tr style=\"text-align: right;\">\n      <th></th>\n      <th>ADDRESS</th>\n      <th>BUSY_STATUS</th>\n      <th>LATITUDE</th>\n      <th>LONGITUDE</th>\n      <th>P_TYPE</th>\n      <th>PARKING_ID</th>\n      <th>PARKING_NAME</th>\n      <th>BERTH</th>\n      <th>PERCENTAGE</th>\n      <th>starttime</th>\n    </tr>\n  </thead>\n  <tbody>\n    <tr>\n      <th>57502</th>\n      <td>前卫村</td>\n      <td>1</td>\n      <td>31.717627</td>\n      <td>121.5096</td>\n      <td>1</td>\n      <td>cm31023000001</td>\n      <td>上海农闲乐休闲娱乐有限公司</td>\n      <td>10.0</td>\n      <td>0.10</td>\n      <td>2021-03-25 08:50:00</td>\n    </tr>\n    <tr>\n      <th>57753</th>\n      <td>前卫村</td>\n      <td>1</td>\n      <td>31.717627</td>\n      <td>121.5096</td>\n      <td>1</td>\n      <td>cm31023000001</td>\n      <td>上海农闲乐休闲娱乐有限公司</td>\n      <td>10.0</td>\n      <td>0.10</td>\n      <td>2021-03-25 08:55:00</td>\n    </tr>\n    <tr>\n      <th>58004</th>\n      <td>前卫村</td>\n      <td>1</td>\n      <td>31.717627</td>\n      <td>121.5096</td>\n      <td>1</td>\n      <td>cm31023000001</td>\n      <td>上海农闲乐休闲娱乐有限公司</td>\n      <td>10.0</td>\n      <td>0.10</td>\n      <td>2021-03-25 09:00:00</td>\n    </tr>\n    <tr>\n      <th>58255</th>\n      <td>前卫村</td>\n      <td>1</td>\n      <td>31.717627</td>\n      <td>121.5096</td>\n      <td>1</td>\n      <td>cm31023000001</td>\n      <td>上海农闲乐休闲娱乐有限公司</td>\n      <td>10.0</td>\n      <td>0.10</td>\n      <td>2021-03-25 09:05:00</td>\n    </tr>\n    <tr>\n      <th>58506</th>\n      <td>前卫村</td>\n      <td>1</td>\n      <td>31.717627</td>\n      <td>121.5096</td>\n      <td>1</td>\n      <td>cm31023000001</td>\n      <td>上海农闲乐休闲娱乐有限公司</td>\n      <td>10.0</td>\n      <td>0.10</td>\n      <td>2021-03-25 09:10:00</td>\n    </tr>\n    <tr>\n      <th>...</th>\n      <td>...</td>\n      <td>...</td>\n      <td>...</td>\n      <td>...</td>\n      <td>...</td>\n      <td>...</td>\n      <td>...</td>\n      <td>...</td>\n      <td>...</td>\n      <td>...</td>\n    </tr>\n    <tr>\n      <th>85345</th>\n      <td>前卫村</td>\n      <td>1</td>\n      <td>31.717627</td>\n      <td>121.5096</td>\n      <td>1</td>\n      <td>cm31023000001</td>\n      <td>上海农闲乐休闲娱乐有限公司</td>\n      <td>77.0</td>\n      <td>0.77</td>\n      <td>2021-03-25 21:20:00</td>\n    </tr>\n    <tr>\n      <th>85596</th>\n      <td>前卫村</td>\n      <td>1</td>\n      <td>31.717627</td>\n      <td>121.5096</td>\n      <td>1</td>\n      <td>cm31023000001</td>\n      <td>上海农闲乐休闲娱乐有限公司</td>\n      <td>76.0</td>\n      <td>0.76</td>\n      <td>2021-03-25 21:25:00</td>\n    </tr>\n    <tr>\n      <th>85847</th>\n      <td>前卫村</td>\n      <td>1</td>\n      <td>31.717627</td>\n      <td>121.5096</td>\n      <td>1</td>\n      <td>cm31023000001</td>\n      <td>上海农闲乐休闲娱乐有限公司</td>\n      <td>NaN</td>\n      <td>NaN</td>\n      <td>2021-03-25 21:30:00</td>\n    </tr>\n    <tr>\n      <th>86098</th>\n      <td>前卫村</td>\n      <td>1</td>\n      <td>31.717627</td>\n      <td>121.5096</td>\n      <td>1</td>\n      <td>cm31023000001</td>\n      <td>上海农闲乐休闲娱乐有限公司</td>\n      <td>73.0</td>\n      <td>0.73</td>\n      <td>2021-03-25 21:40:00</td>\n    </tr>\n    <tr>\n      <th>86349</th>\n      <td>前卫村</td>\n      <td>1</td>\n      <td>31.717627</td>\n      <td>121.5096</td>\n      <td>1</td>\n      <td>cm31023000001</td>\n      <td>上海农闲乐休闲娱乐有限公司</td>\n      <td>70.0</td>\n      <td>0.70</td>\n      <td>2021-03-25 21:50:00</td>\n    </tr>\n  </tbody>\n</table>\n<p>116 rows × 10 columns</p>\n</div>"
     },
     "metadata": {},
     "execution_count": 28
    }
   ],
   "source": [
    "c.reset_index(drop=True)\n",
    "c"
   ]
  },
  {
   "cell_type": "code",
   "execution_count": 29,
   "metadata": {},
   "outputs": [
    {
     "output_type": "execute_result",
     "data": {
      "text/plain": [
       "              labeltime\n",
       "0   2021-03-25 07:00:00\n",
       "1   2021-03-25 07:05:00\n",
       "2   2021-03-25 07:10:00\n",
       "3   2021-03-25 07:15:00\n",
       "4   2021-03-25 07:20:00\n",
       "..                  ...\n",
       "176 2021-03-25 21:40:00\n",
       "177 2021-03-25 21:45:00\n",
       "178 2021-03-25 21:50:00\n",
       "179 2021-03-25 21:55:00\n",
       "180 2021-03-25 22:00:00\n",
       "\n",
       "[181 rows x 1 columns]"
      ],
      "text/html": "<div>\n<style scoped>\n    .dataframe tbody tr th:only-of-type {\n        vertical-align: middle;\n    }\n\n    .dataframe tbody tr th {\n        vertical-align: top;\n    }\n\n    .dataframe thead th {\n        text-align: right;\n    }\n</style>\n<table border=\"1\" class=\"dataframe\">\n  <thead>\n    <tr style=\"text-align: right;\">\n      <th></th>\n      <th>labeltime</th>\n    </tr>\n  </thead>\n  <tbody>\n    <tr>\n      <th>0</th>\n      <td>2021-03-25 07:00:00</td>\n    </tr>\n    <tr>\n      <th>1</th>\n      <td>2021-03-25 07:05:00</td>\n    </tr>\n    <tr>\n      <th>2</th>\n      <td>2021-03-25 07:10:00</td>\n    </tr>\n    <tr>\n      <th>3</th>\n      <td>2021-03-25 07:15:00</td>\n    </tr>\n    <tr>\n      <th>4</th>\n      <td>2021-03-25 07:20:00</td>\n    </tr>\n    <tr>\n      <th>...</th>\n      <td>...</td>\n    </tr>\n    <tr>\n      <th>176</th>\n      <td>2021-03-25 21:40:00</td>\n    </tr>\n    <tr>\n      <th>177</th>\n      <td>2021-03-25 21:45:00</td>\n    </tr>\n    <tr>\n      <th>178</th>\n      <td>2021-03-25 21:50:00</td>\n    </tr>\n    <tr>\n      <th>179</th>\n      <td>2021-03-25 21:55:00</td>\n    </tr>\n    <tr>\n      <th>180</th>\n      <td>2021-03-25 22:00:00</td>\n    </tr>\n  </tbody>\n</table>\n<p>181 rows × 1 columns</p>\n</div>"
     },
     "metadata": {},
     "execution_count": 29
    }
   ],
   "source": [
    "d = pd.DataFrame()\n",
    "year = c.iloc[0][\"starttime\"].year\n",
    "month = c.iloc[0][\"starttime\"].month\n",
    "day = c.iloc[0][\"starttime\"].day\n",
    "d[\"labeltime\"] = pd.date_range(datetime.datetime(year, month, day, 7), datetime.datetime(year, month, day, 22), freq=\"5min\")\n",
    "d"
   ]
  },
  {
   "cell_type": "code",
   "execution_count": 30,
   "metadata": {},
   "outputs": [
    {
     "output_type": "execute_result",
     "data": {
      "text/plain": [
       "              labeltime PERCENTAGE\n",
       "0   2021-03-25 07:00:00       None\n",
       "1   2021-03-25 07:05:00       None\n",
       "2   2021-03-25 07:10:00       None\n",
       "3   2021-03-25 07:15:00       None\n",
       "4   2021-03-25 07:20:00       None\n",
       "..                  ...        ...\n",
       "176 2021-03-25 21:40:00       0.73\n",
       "177 2021-03-25 21:45:00       None\n",
       "178 2021-03-25 21:50:00        0.7\n",
       "179 2021-03-25 21:55:00       None\n",
       "180 2021-03-25 22:00:00       None\n",
       "\n",
       "[181 rows x 2 columns]"
      ],
      "text/html": "<div>\n<style scoped>\n    .dataframe tbody tr th:only-of-type {\n        vertical-align: middle;\n    }\n\n    .dataframe tbody tr th {\n        vertical-align: top;\n    }\n\n    .dataframe thead th {\n        text-align: right;\n    }\n</style>\n<table border=\"1\" class=\"dataframe\">\n  <thead>\n    <tr style=\"text-align: right;\">\n      <th></th>\n      <th>labeltime</th>\n      <th>PERCENTAGE</th>\n    </tr>\n  </thead>\n  <tbody>\n    <tr>\n      <th>0</th>\n      <td>2021-03-25 07:00:00</td>\n      <td>None</td>\n    </tr>\n    <tr>\n      <th>1</th>\n      <td>2021-03-25 07:05:00</td>\n      <td>None</td>\n    </tr>\n    <tr>\n      <th>2</th>\n      <td>2021-03-25 07:10:00</td>\n      <td>None</td>\n    </tr>\n    <tr>\n      <th>3</th>\n      <td>2021-03-25 07:15:00</td>\n      <td>None</td>\n    </tr>\n    <tr>\n      <th>4</th>\n      <td>2021-03-25 07:20:00</td>\n      <td>None</td>\n    </tr>\n    <tr>\n      <th>...</th>\n      <td>...</td>\n      <td>...</td>\n    </tr>\n    <tr>\n      <th>176</th>\n      <td>2021-03-25 21:40:00</td>\n      <td>0.73</td>\n    </tr>\n    <tr>\n      <th>177</th>\n      <td>2021-03-25 21:45:00</td>\n      <td>None</td>\n    </tr>\n    <tr>\n      <th>178</th>\n      <td>2021-03-25 21:50:00</td>\n      <td>0.7</td>\n    </tr>\n    <tr>\n      <th>179</th>\n      <td>2021-03-25 21:55:00</td>\n      <td>None</td>\n    </tr>\n    <tr>\n      <th>180</th>\n      <td>2021-03-25 22:00:00</td>\n      <td>None</td>\n    </tr>\n  </tbody>\n</table>\n<p>181 rows × 2 columns</p>\n</div>"
     },
     "metadata": {},
     "execution_count": 30
    }
   ],
   "source": [
    "d[\"PERCENTAGE\"] = None\n",
    "#print((c[\"starttime\"].iloc[103]))\n",
    "l = len(d[d[\"labeltime\"].isin(c[\"starttime\"])])\n",
    "d.loc[d[\"labeltime\"].isin(c[\"starttime\"]), [\"PERCENTAGE\"]] = c[\"PERCENTAGE\"][:l].to_numpy()\n",
    "d"
   ]
  },
  {
   "cell_type": "code",
   "execution_count": null,
   "metadata": {},
   "outputs": [],
   "source": []
  },
  {
   "cell_type": "code",
   "execution_count": null,
   "metadata": {},
   "outputs": [],
   "source": []
  },
  {
   "cell_type": "code",
   "execution_count": null,
   "metadata": {},
   "outputs": [],
   "source": []
  },
  {
   "cell_type": "code",
   "execution_count": null,
   "metadata": {},
   "outputs": [],
   "source": []
  },
  {
   "cell_type": "code",
   "execution_count": null,
   "metadata": {},
   "outputs": [],
   "source": []
  }
 ]
}